{
  "nbformat": 4,
  "nbformat_minor": 0,
  "metadata": {
    "colab": {
      "name": "EC414_HW5.ipynb",
      "provenance": [],
      "collapsed_sections": []
    },
    "kernelspec": {
      "name": "python3",
      "display_name": "Python 3"
    }
  },
  "cells": [
    {
      "cell_type": "markdown",
      "metadata": {
        "id": "q3Ja9AxKp0D1"
      },
      "source": [
        "# Homework 5: SVMs and Logistic Regression\r\n",
        "by Sadie Allen and Yousif Khaireddin\r\n",
        "\r\n",
        "**Due date**: March 17, Wednesday by 11:59pm\r\n"
      ]
    },
    {
      "cell_type": "markdown",
      "metadata": {
        "id": "-ZhutmoHqDgu"
      },
      "source": [
        "## Setup"
      ]
    },
    {
      "cell_type": "markdown",
      "metadata": {
        "id": "LK_jmezqqFK0"
      },
      "source": [
        "To run and solve this assignment, you must have access to a working Jupyter Notebook installation. We recommend Google Colab. If you are already familiar with Jupyter and have your own installation, you may use it; however, you will have to tweak Colab-specific commands we've entered here (for example, file uploads).\r\n",
        "\r\n",
        "To use Google Colab:\r\n",
        "\r\n",
        "1. Download this `ipynb` file.\r\n",
        "2. Navigate to https://colab.research.google.com/ and select `Upload` in the pop-up window.\r\n",
        "3. Upload this file. It will then open in Colab.\r\n",
        "\r\n",
        "The below statements assume that you have already followed these instructions. If you need help with Python syntax, NumPy, or Matplotlib, you might find Week 1 discussion material useful.\r\n",
        "\r\n",
        "To run code in a cell or to render Markdown+LaTeX press Ctrl+Enter or \"`Run`\" button above. To edit any code or text cell, double-click on its content. Put your solution into boxes marked with **`[double click here to add a solution]`** and press Ctrl+Enter to render text. You can add cells via `+` sign at the top left corner.\r\n",
        "\r\n",
        "**Submission instructions**: please upload your completed solution file as well as a scan of any handwritten answers to Gradescope by **March 17th at midnight**.."
      ]
    },
    {
      "cell_type": "markdown",
      "metadata": {
        "id": "LT67fqvXqTyW"
      },
      "source": [
        "## **Question 1:** Binary Classification with SVMs (40pts)\r\n",
        "\r\n",
        "In this problem, you will gain intuition surrounding Support Vector Machines by solving a simple 2D case by hand. \r\n",
        "\r\n",
        "Suppose you have the following dataset:\r\n",
        "\r\n",
        "$ \\vec{x_P} = (2,0)^T, \\vec{x_Q} = (0,4)^T$ With label $y=-1$\r\n",
        "\r\n",
        "$ \\vec{x_R} = (3,3)^T, \\vec{x_S} = (7,4)^T$ With label $y=+1$\r\n",
        "\r\n",
        "\r\n"
      ]
    },
    {
      "cell_type": "markdown",
      "metadata": {
        "id": "lgP7eP7PCGKz"
      },
      "source": [
        "### **1.1**\r\n",
        "Sketch the points in the x1-x2 plane. "
      ]
    },
    {
      "cell_type": "markdown",
      "metadata": {
        "id": "QaZMXnVhoUdQ"
      },
      "source": [
        "**Solution**:\r\n",
        "Shown in pdf\r\n"
      ]
    },
    {
      "cell_type": "markdown",
      "metadata": {
        "id": "SdDSQczWCSGL"
      },
      "source": [
        "### **1.2** \r\n",
        "Given the hyperplane parameterized by $\\vec{w}=(3,0)^T, b=-3$, sketch it and compute the parameters in canonical form. \r\n",
        "\r\n",
        "Let the hyperplane parameterized by $(\\vec{w}, b)$ linearly separate the dataset $D$. We say $(\\vec{w}, b)$ is in **canonical form** if:\r\n",
        "\r\n",
        "$min_j y_j(\\vec{w}^T\\vec{x_i}+b) = min_j|\\vec{w}^T\\vec{x_i}+b| = 1 $"
      ]
    },
    {
      "cell_type": "markdown",
      "metadata": {
        "id": "RzTKnQUOCqkE"
      },
      "source": [
        "**Solution**:\r\n",
        "Shown in pdf\r\n",
        " \r\n"
      ]
    },
    {
      "cell_type": "markdown",
      "metadata": {
        "id": "b-wn_7oUCtkW"
      },
      "source": [
        "### **1.3**\r\n",
        "Compute the parameters of the hyperplane passing through $\\vec{x_P}$ and $\\vec{x_Q}$ and add it to your picture. "
      ]
    },
    {
      "cell_type": "markdown",
      "metadata": {
        "id": "Wphd8e5fCw3N"
      },
      "source": [
        "**Solution**:\r\n",
        "  Shown in pdf\r\n",
        "  "
      ]
    },
    {
      "cell_type": "markdown",
      "metadata": {
        "id": "Jic4zmg_Czqh"
      },
      "source": [
        "### **1.4**\r\n",
        "Compute the orthogonal projection of $\\vec{x_R}$ onto the hyperplane in question 1.3"
      ]
    },
    {
      "cell_type": "markdown",
      "metadata": {
        "id": "T4G9gdbhC3Rw"
      },
      "source": [
        "**Solution**:\r\n",
        "Shown in pdf\r\n"
      ]
    },
    {
      "cell_type": "markdown",
      "metadata": {
        "id": "KpXfEaPgC6OB"
      },
      "source": [
        "### **1.5**\r\n",
        "Compute the parameters of the maximum margin linearly separating hyperplane (SVM hyperplane) in canonical form. Sketch the hyperplane. "
      ]
    },
    {
      "cell_type": "markdown",
      "metadata": {
        "id": "TSePYpg2DDf5"
      },
      "source": [
        "**Solution**\r\n",
        "Shown in pdf\r\n"
      ]
    },
    {
      "cell_type": "markdown",
      "metadata": {
        "id": "MCDf7M9lDGTV"
      },
      "source": [
        "### **1.6**\r\n",
        "Let $\\vec{w_{SVM}} = -\\alpha_{P}\\vec{x_P} - \\alpha_{Q}\\vec{x_Q} + \\alpha_{R}\\vec{x_R} + \\alpha_{S}\\vec{x_S}$. Hand compute the $\\alpha$ values. Are they unique?"
      ]
    },
    {
      "cell_type": "markdown",
      "metadata": {
        "id": "E-NA7gweDLAj"
      },
      "source": [
        "**Solution:**\r\n",
        "Shown in pdf\r\n"
      ]
    },
    {
      "cell_type": "markdown",
      "metadata": {
        "id": "vlBs7Hmdq4dQ"
      },
      "source": [
        "## **Question 2:** Logistic Regression (60pts)\r\n",
        "\r\n"
      ]
    },
    {
      "cell_type": "markdown",
      "metadata": {
        "id": "9LmAoDlZ9KUE"
      },
      "source": [
        "In this problem, we will use an alternate but equivalent formulation of logistic regression than what you have seen in class. Suppose we have a binary classification data set:\r\n",
        "\r\n",
        "$D = \\{(\\vec{x_1}, y_1), (\\vec{x_2}, y_2), .... ,(\\vec{x_n}, y_n)\\}$, where $\\vec{x_i} \\in \\mathbb{R}^d$ and $y_i \\in \\{0,1\\}$. \r\n",
        "\r\n",
        "Recall that the hypothesis/decision rule in a logistic regression model is given by:\r\n",
        "\r\n",
        "$\\hat{y}_w = h_w(\\vec{x}) = \\sigma(\\vec{w}^T\\vec{x})$, where $\\sigma$  is the sigmoid function  $\\sigma(z) = \\frac{1}{1+e^{-z}} = \\frac{e^z}{e^z+1}$\r\n",
        "\r\n",
        "This is a model of $p(y_i=1|\\vec{x_i})$, so we estimate $p(y_i=1|\\vec{x_i})=h_w(\\vec{x_i})$. We classify $\\vec{x_i}$ as 1 if $h_w(\\vec{x_i}) \\geq 0.5$ and $\\vec{x_i}$ as 0 if $h_w(\\vec{x_i}) < 0.5$. Since our dataset is binary, this makes sense because $p(y_i=0|\\vec{x_i}) = 1 - p(y_i=1|\\vec{x_i}) = 1 - h_w(\\vec{x_i})$. (This will come in handy when you write your prediction function.) \r\n",
        "\r\n",
        "The loss function we will use for our 0-1 logistic regression formulation is: \r\n",
        "\r\n",
        "$$l(\\vec{w}) = NLL(\\vec{w}) + \\frac{\\lambda}{2}||\\vec{w}||^2$$\r\n",
        "\r\n",
        "$$\\text{where } NLL(\\vec{w}) = -\\frac{1}{n} \\sum_{i=1}^{n} y_i\\log(h_w(\\vec{x_i})) + (1 - y_i)\\log(1 - h_w(\\vec{x_i}))$$\r\n",
        "\r\n",
        "Thus, we attempt to minimize the negative log likelihood (NLL) with respect to $\\vec{w}$ with L2 normalization to prevent $\\vec{w}$ from becoming very large. \r\n",
        "\r\n",
        "The intuition behind this loss function is as follows: if $y_i=0$, the first term inside the sum is $0$, so the only term contributing the the loss is the second term. Remember that $1-h_w(\\vec{x_i}) = p(y_i=0|\\vec{x_i})$. Thus, the larger $p(y_i=0|\\vec{x_i})$ is, the smaller the contribution to the loss will be. The intuition is similar for $y_i=0$. \r\n",
        "\r\n",
        "For more on this loss function and its formulation, see the following resources:\r\n",
        "\r\n",
        "* https://medium.com/30-days-of-machine-learning/day-4-logistic-regression-df9a7a2220cd\r\n",
        "* https://medium.com/@bhardwajprakarsh/negative-log-likelihood-loss-why-do-we-use-it-for-binary-classification-7625f9e3c944\r\n",
        "\r\n",
        "All that is really important for us is to note that like the other formulation of the NLL, this loss function has no closed form solution for minimization with respect to $\\vec{w}$. However, we can solve for the optimal parameter vector $\\vec{w}$ using gradient descent. This is what we will do in this problem. \r\n",
        "\r\n",
        "\r\n"
      ]
    },
    {
      "cell_type": "markdown",
      "metadata": {
        "id": "q83J_Ri89xHV"
      },
      "source": [
        "### **2.1**\r\n",
        "\r\n",
        "In order to perform gradient descent, we must first determine the gradient vector $\\nabla_w l(w)$ as a function of $\\vec{w}$. Compute the derivate $\\nabla_w l(w)$ here. \r\n",
        "\r\n",
        "**Hints:** \r\n",
        "- if $h(x) = f(x) + g(x)$, then $\\nabla_x h(x)$ = $\\nabla_x f(x)$ + $\\nabla_x g(x)$\r\n",
        "\r\n",
        "- $[\\frac{f(x)}{g(x)}]'$ = $\\frac{g(x)f'(x) - f(x)g'(x)}{(g(x))^2}$\r\n",
        "\r\n",
        "- $[f(g(x)]'$ = $f'(g(x))$ * $g(x)'$ \r\n",
        "\r\n"
      ]
    },
    {
      "cell_type": "markdown",
      "metadata": {
        "id": "dcuCBKzp-IFI"
      },
      "source": [
        "**Answer**\r\n",
        "Shown in pdf\r\n"
      ]
    },
    {
      "cell_type": "markdown",
      "metadata": {
        "id": "Syi0bDEEWaFh"
      },
      "source": [
        "### **2.2**\r\n",
        "In this problem, you will implement logistic regression using gradient descent with the gradient you calculated in 2.1\r\n",
        "\r\n",
        "**Data Loading and Scaling**:\r\n",
        "\r\n",
        "In this problem, we will use a logistic regression model to classify wether or not some patients have breast cancer based on data in a study by  Dr. William H. Wolberg, General Surgery Dept at University of Wisconsin. \r\n",
        "\r\n",
        "Luckily this dataset is already found in sklearn and all we have to do is import it"
      ]
    },
    {
      "cell_type": "code",
      "metadata": {
        "colab": {
          "base_uri": "https://localhost:8080/"
        },
        "id": "Tu5YmGee7zG4",
        "outputId": "0f734869-7bc5-418c-9682-73121e8ce0a7"
      },
      "source": [
        "import pandas as pd\r\n",
        "import numpy as np\r\n",
        "from numpy import log, dot, e\r\n",
        "from numpy.random import rand\r\n",
        "import matplotlib.pyplot as plt\r\n",
        "from sklearn.metrics import confusion_matrix, classification_report\r\n",
        "from sklearn.datasets import load_breast_cancer\r\n",
        "\r\n",
        "from sklearn.model_selection import train_test_split\r\n",
        "from sklearn.datasets import load_breast_cancer\r\n",
        "\r\n",
        "data = load_breast_cancer()\r\n",
        "\r\n",
        "X = data['data']\r\n",
        "Y = data['target']\r\n",
        "#Y[Y == 0] = -1\r\n",
        "\r\n",
        "print(\"X shape\", X.shape, sep='\\t')\r\n",
        "\r\n",
        "print(\"Y shape\", Y.shape, sep='\\t')"
      ],
      "execution_count": null,
      "outputs": [
        {
          "output_type": "stream",
          "text": [
            "X shape\t(569, 30)\n",
            "Y shape\t(569,)\n"
          ],
          "name": "stdout"
        }
      ]
    },
    {
      "cell_type": "markdown",
      "metadata": {
        "id": "skcgR9ZSXIY5"
      },
      "source": [
        "If we take a look at the features, X, we will notice that all the features vary within ranges that are extremely far from each other. \r\n",
        "\r\n",
        "Some of these features are in the other of 10s, 100s while other are around 0.01 or 0.1.\r\n",
        "\r\n",
        "To correct this, use sklearn's MinMaxScaler to rescale all features between -1 and 1. "
      ]
    },
    {
      "cell_type": "code",
      "metadata": {
        "id": "P_IoVAZ6XEB5"
      },
      "source": [
        "from sklearn.preprocessing import MinMaxScaler\r\n",
        "\r\n",
        "scaler = MinMaxScaler(feature_range=(-1, 1))\r\n",
        "X = scaler.fit_transform(X)"
      ],
      "execution_count": null,
      "outputs": []
    },
    {
      "cell_type": "markdown",
      "metadata": {
        "id": "r9BIcBSTEi4z"
      },
      "source": [
        "#### a. Why is rescaling important for logistic regression models?"
      ]
    },
    {
      "cell_type": "markdown",
      "metadata": {
        "id": "bbqJ20zRE8wj"
      },
      "source": [
        "**Solution**:\r\n",
        "rescaling is imporatant because variables at different scales do not perform equally to the analysis and create bias. \r\n"
      ]
    },
    {
      "cell_type": "markdown",
      "metadata": {
        "id": "1W35me4DX6gR"
      },
      "source": [
        "#### b. Using **train_test_split** from sklearn, seperate the data using a 80, 20 split.\r\n",
        "\r\n",
        "* Make sure to shuffle the dataset using a **random_state** of 42\r\n"
      ]
    },
    {
      "cell_type": "code",
      "metadata": {
        "id": "VpCjkIvyvyhn",
        "colab": {
          "base_uri": "https://localhost:8080/"
        },
        "outputId": "375ef944-8f10-4aad-cc5e-09cbcfbfa768"
      },
      "source": [
        "from sklearn.model_selection import train_test_split\r\n",
        "\r\n",
        "xtrain, xtest, ytrain, ytest = train_test_split(X, Y, shuffle = True, random_state = 42, test_size = 0.2)\r\n",
        "\r\n",
        "print(\"xtrain shape:\", xtrain.shape, sep='\\t')\r\n",
        "print(\"xtest shape:\", xtest.shape, '\\n', sep='\\t')\r\n",
        "\r\n",
        "print(\"ytrain shape:\", ytrain.shape, sep='\\t')\r\n",
        "print(\"ytest shape:\", ytest.shape, sep='\\t')"
      ],
      "execution_count": null,
      "outputs": [
        {
          "output_type": "stream",
          "text": [
            "xtrain shape:\t(455, 30)\n",
            "xtest shape:\t(114, 30)\t\n",
            "\n",
            "ytrain shape:\t(455,)\n",
            "ytest shape:\t(114,)\n"
          ],
          "name": "stdout"
        }
      ]
    },
    {
      "cell_type": "markdown",
      "metadata": {
        "id": "x9W2g-rYYHOq"
      },
      "source": [
        "#### c. Model Implementation"
      ]
    },
    {
      "cell_type": "markdown",
      "metadata": {
        "id": "hWxNwakxYOwH"
      },
      "source": [
        "Build the following functions:\r\n",
        "\r\n",
        "* `sigmoid(z)`: This is the sigmoid function described in the problem above.\r\n",
        "* `loss(X, y, w, lmda=0.001)`: Loss function that takes X, y, w, and $\\lambda$ and returns the value of $l(\\vec{w})$. Note that this function should return a **scalar**.\r\n",
        "* `predict(X, w)`: Predict function that takes data X and parameter vector $\\vec{w}$ and returns the predictions for each data point in X, either 0 or 1. \r\n",
        "* `gradient(X, y, w, lmda=0.001)`: The gradient function that calculates $\\nabla_{\\vec{w}} l(\\vec{w})$ and returns it (make sure this returns a dx1 vector).\r\n",
        "* `fit(X, y, epochs, lr, lmda)`: This function will perform gradient descent for the given number of epochs and return the optimal parameter vector $\\vec{w}$ and the loss values after each step.\r\n",
        "\r\n"
      ]
    },
    {
      "cell_type": "code",
      "metadata": {
        "id": "UZO7rFpoYOVX"
      },
      "source": [
        "def sigmoid(z): \r\n",
        "    sig = (np.exp(1)**z)/(1+np.exp(1)**z)\r\n",
        "    return sig"
      ],
      "execution_count": null,
      "outputs": []
    },
    {
      "cell_type": "code",
      "metadata": {
        "id": "Y5Q3dmj5YXQa",
        "colab": {
          "base_uri": "https://localhost:8080/"
        },
        "outputId": "8fd6b173-b32f-44d7-86cf-abb5fcc47813"
      },
      "source": [
        "def loss(X, y, w, lmda=0.001):\r\n",
        "    lenx = len(X)\r\n",
        "    temp = []\r\n",
        "    for i in range(lenx):\r\n",
        "      val = y[i]*np.log(sigmoid(w.T@X[i,:]))\r\n",
        "      val2 = (1-y[i])*np.log(1-sigmoid(w.T@X[i,:]))\r\n",
        "      temp.append(val+val2)\r\n",
        "    \r\n",
        "    nll = (-1/lenx)*sum(temp)\r\n",
        "    reg = (lmda/2)*(w.T)@(w) # your code here \r\n",
        "    lossval = nll + reg \r\n",
        "    return lossval[0][0]\r\n",
        "\r\n",
        "w = rand(xtrain.shape[1], 1)\r\n",
        "#print(xtrain.shape, w.shape)\r\n",
        "temp = loss(xtrain, ytrain, w)\r\n",
        "\r\n",
        "print(temp)\r\n"
      ],
      "execution_count": null,
      "outputs": [
        {
          "output_type": "stream",
          "text": [
            "5.759538626110659\n"
          ],
          "name": "stdout"
        }
      ]
    },
    {
      "cell_type": "code",
      "metadata": {
        "id": "2FQPGcP6YmwW"
      },
      "source": [
        "def predict(X, w):        \r\n",
        "    predictions = []\r\n",
        "    lenx = len(X)\r\n",
        "    for i in range(lenx):\r\n",
        "      if (sigmoid(w.T@X[i,:]) >= 0.5):\r\n",
        "        predictions.append(1)\r\n",
        "      else:\r\n",
        "        predictions.append(0)\r\n",
        "    return np.array(predictions)"
      ],
      "execution_count": null,
      "outputs": []
    },
    {
      "cell_type": "markdown",
      "metadata": {
        "id": "6R_h5MT1FmZv"
      },
      "source": [
        ""
      ]
    },
    {
      "cell_type": "code",
      "metadata": {
        "id": "zGCpq6L5l0k8",
        "colab": {
          "base_uri": "https://localhost:8080/"
        },
        "outputId": "c215b869-dc94-46b1-b45d-228d11597800"
      },
      "source": [
        "def gradient(X, y, w, lmda=0.001):\r\n",
        "    n, d = X.shape\r\n",
        "    for i in range(n):\r\n",
        "      y_hat = sigmoid(w.T@X[i,:])\r\n",
        "      grad = (y - y_hat)@X + lmda*w.T@w\r\n",
        "    return grad.T\r\n",
        "w = rand(xtrain.shape[1], 1)\r\n",
        "print(xtrain.shape, w.shape)\r\n",
        "temp = gradient(xtrain, ytrain, w)\r\n",
        "print(temp.shape)\r\n",
        "\r\n"
      ],
      "execution_count": null,
      "outputs": [
        {
          "output_type": "stream",
          "text": [
            "(455, 30) (30, 1)\n",
            "(30, 1)\n"
          ],
          "name": "stdout"
        }
      ]
    },
    {
      "cell_type": "code",
      "metadata": {
        "id": "aOx97sD3yPzy"
      },
      "source": [
        "def fit(X, y, epochs=200, lr=0.001, lmda=0.001): # default arguments     \r\n",
        "    loss_arr = []\r\n",
        "    w = rand(X.shape[1], 1)\r\n",
        "    #print(w.shape, \"W\")\r\n",
        "                \r\n",
        "    for _ in range(epochs):        \r\n",
        "        # Gradient Descent!\r\n",
        "        curr_loss = loss(X, y, w, lmda=0.001)# calculate current loss value \r\n",
        "        loss_arr.append(curr_loss) \r\n",
        "\r\n",
        "        grad = gradient(X, y, w, lmda=0.001) # calculate gradient =\r\n",
        "        w = w - lr*grad # perform update step\r\n",
        "   \r\n",
        "    return w, loss_arr"
      ],
      "execution_count": null,
      "outputs": []
    },
    {
      "cell_type": "markdown",
      "metadata": {
        "id": "RiqYHOk5YKgj"
      },
      "source": [
        "#### e. Model Evaluation\r\n",
        "\r\n",
        "Call your `fit` function to obtain the optimal $\\vec{w}$ and loss values throughout training. Use hyperparameters `epochs=500`, `lr=0.1` and `lmda=0.01`. Plot the loss values against the number of epochs. Then, call the `predict` function on `xtest` with your optimal $\\vec{w}$ and calculate the CCR on the test set."
      ]
    },
    {
      "cell_type": "code",
      "metadata": {
        "colab": {
          "base_uri": "https://localhost:8080/",
          "height": 353
        },
        "id": "PFM_A7aCzrZZ",
        "outputId": "fda42402-0675-46e0-fc8e-6efd102d5bf0"
      },
      "source": [
        "w, loss_arr = fit(xtrain, ytrain, epochs=500, lr=0.1, lmda=0.01)\r\n",
        "plt.plot(range(500),loss_arr)\r\n",
        "# fit your model \r\n",
        "# CODE HERE: Plot the loss values vs epoch number"
      ],
      "execution_count": null,
      "outputs": [
        {
          "output_type": "stream",
          "text": [
            "/usr/local/lib/python3.7/dist-packages/ipykernel_launcher.py:7: RuntimeWarning: divide by zero encountered in log\n",
            "  import sys\n",
            "/usr/local/lib/python3.7/dist-packages/ipykernel_launcher.py:7: RuntimeWarning: invalid value encountered in multiply\n",
            "  import sys\n"
          ],
          "name": "stderr"
        },
        {
          "output_type": "execute_result",
          "data": {
            "text/plain": [
              "[<matplotlib.lines.Line2D at 0x7f958a45f090>]"
            ]
          },
          "metadata": {
            "tags": []
          },
          "execution_count": 148
        },
        {
          "output_type": "display_data",
          "data": {
            "image/png": "[encoded data removed]",
            "text/plain": [
              "<Figure size 432x288 with 1 Axes>"
            ]
          },
          "metadata": {
            "tags": [],
            "needs_background": "light"
          }
        }
      ]
    },
    {
      "cell_type": "code",
      "metadata": {
        "id": "mQAhElPRoYYt",
        "colab": {
          "base_uri": "https://localhost:8080/"
        },
        "outputId": "a69e0e71-2bf8-40ac-e238-616cc4d6de68"
      },
      "source": [
        "CCR = predict(xtest, w)\r\n",
        "num = 0\r\n",
        "for i in CCR:\r\n",
        "  if (i == 1):\r\n",
        "    num += 1\r\n",
        "pred = 1 - num/len(CCR)\r\n",
        "print(pred)\r\n"
      ],
      "execution_count": null,
      "outputs": [
        {
          "output_type": "stream",
          "text": [
            "0.9736842105263158\n"
          ],
          "name": "stdout"
        }
      ]
    }
  ]
}